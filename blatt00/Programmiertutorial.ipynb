{
 "cells": [
  {
   "cell_type": "markdown",
   "id": "3aefc6e7-e103-4c17-b1c0-9ae1a4f48ccb",
   "metadata": {},
   "source": [
    "### Einführung in die Numerik WS 2024/2025\n",
    "Prof. Dr. Vincent Heuveline, Isabel Gernand, Jonas Roller, Valentin Schmid \n",
    "\n",
    "------------------------------------------------\n",
    "# Übungsblatt 0 - Programmiertutorial\n",
    "________________________________________________\n",
    "    \n",
    "Dieses Übungsblatt muss nicht abgegeben werden."
   ]
  },
  {
   "cell_type": "markdown",
   "id": "969e9176-67e4-4c16-bbf4-26ed276f4a5f",
   "metadata": {},
   "source": [
    "## 1. Jupyter Notebooks\n",
    "Jupyter Notebooks bestehen aus einer Reihe von Ein- und Ausgabezellen. Jede Zelle kann entweder Text oder Code enthalten. Dabei kann eine ausgewählte Zeile ausgeführt werden, indem \"Shift + Enter\" ausgeführt wird oder der \"Run\" Button geklickt wird. \n",
    "\n",
    "Textzellen (wie diese hier) sind sogenannte Markdown-Zellen. *Markdown* ist eine Markup-Language, mit der Formatierungselemente zu gewöhnlichem Plain-Text hinzugefügt werden können. Für die Markdown-Syntax verweisen wir auf https://www.markdownguide.org/basic-syntax/.\n",
    "Eine Markdown-Zelle kann durch Doppelklick geöffnet werden, um ihren Inhalt anzuzeigen und zu bearbeiten. Geschlossen bzw. ausgeführt wird sie dann mit \"Shift\" + \"Enter\".\n",
    "\n",
    "Innerhalb von Markdownzellen können auch Latex-Befehle genutzt werden, etwa um Formeln darzustellen. \n",
    "$$\\text{Beispiel: Dies ist eine Formel } f_3(x) = x^3+4x^2-9$$\n",
    "\n",
    "Eine neue Zelle kann über die Symbolleiste oben erzeugt werden. Über das Dropdown-Menü kann definiert werden, ob es eine Code- oder Markdownzelle sein soll."
   ]
  },
  {
   "cell_type": "code",
   "id": "1b7ffd72-7f24-4627-8912-b8b97ddefa2e",
   "metadata": {
    "ExecuteTime": {
     "end_time": "2024-10-16T07:44:38.272514Z",
     "start_time": "2024-10-16T07:44:38.266506Z"
    }
   },
   "source": [
    "# Dies ist eine Code-Zelle\n",
    "# Sie kann mit \"Shift\"+\"Enter\" ausgeführt werden\n",
    "\n",
    "a = 6\n",
    "print(\"Hallo\")\n",
    "print(1 + 2)"
   ],
   "outputs": [
    {
     "name": "stdout",
     "output_type": "stream",
     "text": [
      "Hallo\n",
      "3\n"
     ]
    }
   ],
   "execution_count": 3
  },
  {
   "cell_type": "markdown",
   "id": "0dd369fa-971f-49dc-9ca7-27c56b4baab9",
   "metadata": {},
   "source": [
    "## 2. Python Basics\n",
    "\n",
    "Nun wollen wir uns einigen Programmierbasics widmen. Wir verweisen auch auf das offizielle Python Tutorial (https://docs.python.org/3/tutorial/index.html), das wesentlich ausführlicher ist. In obigem Codeblock haben wir bereits **Kommentare** kennengelernt. Kommentare in Python werden mit dem Symbol # gekennzeichnet, sie dienen dazu, Codeabschnitte näher zu erläutern, um den Code verständlicher zu machen. "
   ]
  },
  {
   "cell_type": "code",
   "id": "5197593b-f9ea-443b-98f7-cdf153b2bb4a",
   "metadata": {
    "ExecuteTime": {
     "end_time": "2024-10-16T07:44:43.215623Z",
     "start_time": "2024-10-16T07:44:43.206097Z"
    }
   },
   "source": [
    "# Dies ist ein Kommentar, der eine ganze Zeile einnimmt\n",
    "print(1+2) # Dieser Kommentar steht direkt im Code \n",
    "print(1+2)"
   ],
   "outputs": [
    {
     "name": "stdout",
     "output_type": "stream",
     "text": [
      "3\n",
      "3\n"
     ]
    }
   ],
   "execution_count": 4
  },
  {
   "cell_type": "markdown",
   "id": "07ffbec9-7e9c-4a7e-b7b6-1d2fe1a7c679",
   "metadata": {},
   "source": [
    "Außerdem haben wir die **Funktion** *print()* kennengelernt. Diese erzeugt einen lesbaren Output in der Ausgabezelle."
   ]
  },
  {
   "cell_type": "code",
   "id": "6c67c9d7-4406-4fe3-aeb0-263bf398210b",
   "metadata": {
    "ExecuteTime": {
     "end_time": "2024-10-16T07:44:46.420871Z",
     "start_time": "2024-10-16T07:44:46.408585Z"
    }
   },
   "source": [
    "# ohne print \n",
    "\n",
    "\"Hallo\""
   ],
   "outputs": [
    {
     "data": {
      "text/plain": [
       "'Hallo'"
      ]
     },
     "execution_count": 5,
     "metadata": {},
     "output_type": "execute_result"
    }
   ],
   "execution_count": 5
  },
  {
   "cell_type": "code",
   "id": "12bd696e-1e44-433f-aedd-1d11652bb43b",
   "metadata": {
    "ExecuteTime": {
     "end_time": "2024-10-16T07:44:48.237943Z",
     "start_time": "2024-10-16T07:44:48.230647Z"
    }
   },
   "source": [
    "# mit print\n",
    "\n",
    "print(\"Hallo\")"
   ],
   "outputs": [
    {
     "name": "stdout",
     "output_type": "stream",
     "text": [
      "Hallo\n"
     ]
    }
   ],
   "execution_count": 6
  },
  {
   "cell_type": "markdown",
   "id": "c75f01ee-a5b9-47b6-89ee-0f2e3b87d449",
   "metadata": {},
   "source": [
    "### Arithmetische Operationen\n",
    "\n",
    "Simple Rechenoperationen wie $+, -, \\cdot, /$ lassen sich in Python ganz einfach ausführen: "
   ]
  },
  {
   "cell_type": "code",
   "id": "e5abfbf2-9523-41d7-9e9c-feda40d34006",
   "metadata": {
    "ExecuteTime": {
     "end_time": "2024-10-16T07:44:51.850762Z",
     "start_time": "2024-10-16T07:44:51.840503Z"
    }
   },
   "source": [
    "1+2"
   ],
   "outputs": [
    {
     "data": {
      "text/plain": [
       "3"
      ]
     },
     "execution_count": 7,
     "metadata": {},
     "output_type": "execute_result"
    }
   ],
   "execution_count": 7
  },
  {
   "cell_type": "code",
   "execution_count": null,
   "id": "c3f1d257-0a8d-4f97-be31-87c6212e0831",
   "metadata": {},
   "outputs": [],
   "source": [
    "1-2"
   ]
  },
  {
   "cell_type": "code",
   "id": "43887966-8210-440a-ba62-b166eb3dff40",
   "metadata": {
    "ExecuteTime": {
     "end_time": "2024-10-16T07:44:54.275184Z",
     "start_time": "2024-10-16T07:44:54.266422Z"
    }
   },
   "source": [
    "3*3"
   ],
   "outputs": [
    {
     "data": {
      "text/plain": [
       "9"
      ]
     },
     "execution_count": 8,
     "metadata": {},
     "output_type": "execute_result"
    }
   ],
   "execution_count": 8
  },
  {
   "cell_type": "code",
   "execution_count": null,
   "id": "3c6be699-754c-4421-a7b6-b1cc43675661",
   "metadata": {},
   "outputs": [],
   "source": [
    "4/5"
   ]
  },
  {
   "cell_type": "markdown",
   "id": "78ef7d23-a211-4407-9ecb-01867a18ae1c",
   "metadata": {},
   "source": [
    "Ganzzahlige Zahlen haben den Datentyp **int**, Dezimalzahlen sind vom Typ **float**."
   ]
  },
  {
   "cell_type": "code",
   "id": "a9c4d39f-b1e6-4c0b-97b9-d1f7a5d5888a",
   "metadata": {
    "ExecuteTime": {
     "end_time": "2024-10-16T07:44:57.175522Z",
     "start_time": "2024-10-16T07:44:57.168393Z"
    }
   },
   "source": [
    "print(2) # dies ist ein int\n",
    "print(2.0) # dies ist ein float\n",
    "\n",
    "# den Typ können wir uns mit der Funktion type ausgeben lassen\n",
    "print(type(2))\n",
    "print(type(2.0))"
   ],
   "outputs": [
    {
     "name": "stdout",
     "output_type": "stream",
     "text": [
      "2\n",
      "2.0\n",
      "<class 'int'>\n",
      "<class 'float'>\n"
     ]
    }
   ],
   "execution_count": 9
  },
  {
   "cell_type": "markdown",
   "id": "77e668d9-3408-47dc-8183-548e103acbfc",
   "metadata": {},
   "source": [
    "### Zuweisungen und Variablen\n",
    "\n",
    "Mit dem = Zeichen können Variablen Werte zugewiesen werden. Undefinierte Variablen geben einen Fehler."
   ]
  },
  {
   "cell_type": "code",
   "id": "785bf696-4d3b-4449-9ade-5b30569ec1ca",
   "metadata": {
    "ExecuteTime": {
     "end_time": "2024-10-16T07:45:01.120168Z",
     "start_time": "2024-10-16T07:45:01.114850Z"
    }
   },
   "source": [
    "height = 5 * 9\n",
    "print(height)"
   ],
   "outputs": [
    {
     "name": "stdout",
     "output_type": "stream",
     "text": [
      "45\n"
     ]
    }
   ],
   "execution_count": 10
  },
  {
   "cell_type": "code",
   "id": "b9b3f907-b350-4ecb-9a5b-636db3d579a1",
   "metadata": {
    "ExecuteTime": {
     "end_time": "2024-10-16T07:45:04.810885Z",
     "start_time": "2024-10-16T07:45:04.426745Z"
    }
   },
   "source": [
    "# n ist nicht definiert\n",
    "\n",
    "print(n)"
   ],
   "outputs": [
    {
     "ename": "NameError",
     "evalue": "name 'n' is not defined",
     "output_type": "error",
     "traceback": [
      "\u001B[1;31m---------------------------------------------------------------------------\u001B[0m",
      "\u001B[1;31mNameError\u001B[0m                                 Traceback (most recent call last)",
      "Cell \u001B[1;32mIn[11], line 3\u001B[0m\n\u001B[0;32m      1\u001B[0m \u001B[38;5;66;03m# n ist nicht definiert\u001B[39;00m\n\u001B[1;32m----> 3\u001B[0m \u001B[38;5;28mprint\u001B[39m(\u001B[43mn\u001B[49m)\n",
      "\u001B[1;31mNameError\u001B[0m: name 'n' is not defined"
     ]
    }
   ],
   "execution_count": 11
  },
  {
   "cell_type": "markdown",
   "id": "fac4c6a4-3117-4ef7-b8e0-46a051935cac",
   "metadata": {},
   "source": [
    "### Text\n",
    "\n",
    "Text wird durch den Datentyp **str** definiert, sogenannte Strings. "
   ]
  },
  {
   "cell_type": "code",
   "id": "d54ca05a-b071-4a8f-8bcc-54d491f71a8c",
   "metadata": {
    "ExecuteTime": {
     "end_time": "2024-10-16T07:45:10.520523Z",
     "start_time": "2024-10-16T07:45:10.513768Z"
    }
   },
   "source": [
    "txt = \"This is a string :)\"\n",
    "s = 'First line.\\nSecond line.'\n",
    "\n",
    "print(txt)\n",
    "print(s)"
   ],
   "outputs": [
    {
     "name": "stdout",
     "output_type": "stream",
     "text": [
      "This is a string :)\n",
      "First line.\n",
      "Second line.\n"
     ]
    }
   ],
   "execution_count": 12
  },
  {
   "cell_type": "markdown",
   "id": "044c5ed4-7840-4758-a144-51335aaac71f",
   "metadata": {},
   "source": [
    "Strings können *indiziert* werden, d.h. wir können auf die einzelnen Zeichen / Buchstaben (genannt characters) über Indizes und den []-Operator zugreifen, beginnend bei 0."
   ]
  },
  {
   "cell_type": "code",
   "id": "9a3466ef-0555-4a25-a269-677504ecca7b",
   "metadata": {
    "ExecuteTime": {
     "end_time": "2024-10-16T07:45:14.430003Z",
     "start_time": "2024-10-16T07:45:14.421916Z"
    }
   },
   "source": [
    "txt[0]"
   ],
   "outputs": [
    {
     "data": {
      "text/plain": [
       "'T'"
      ]
     },
     "execution_count": 13,
     "metadata": {},
     "output_type": "execute_result"
    }
   ],
   "execution_count": 13
  },
  {
   "cell_type": "code",
   "execution_count": null,
   "id": "33fe85df-9415-4e2a-b95c-792b9c2cddaf",
   "metadata": {},
   "outputs": [],
   "source": [
    "txt[4]"
   ]
  },
  {
   "cell_type": "markdown",
   "id": "c34a8488-f37d-4545-adf0-93a99ed4ed31",
   "metadata": {},
   "source": [
    "Außerdem verügen strings über die Möglicheit des *slicing*, d.h. wir können uns mehrere character über ein Index-Set ausgeben lassen:"
   ]
  },
  {
   "cell_type": "code",
   "execution_count": null,
   "id": "f57bb287-8fb2-4bf4-ae94-041d2a8a6762",
   "metadata": {},
   "outputs": [],
   "source": [
    "# die ersten 10 character von txt\n",
    "txt[0:10] "
   ]
  },
  {
   "cell_type": "code",
   "execution_count": null,
   "id": "1c226049-a836-453d-a694-a08408938b2e",
   "metadata": {},
   "outputs": [],
   "source": [
    "# die letzten 10 character von txt\n",
    "txt[-10:]"
   ]
  },
  {
   "cell_type": "code",
   "execution_count": null,
   "id": "a604b6ec-81a6-476c-93fb-e52525050a6b",
   "metadata": {},
   "outputs": [],
   "source": [
    "# beliebiges Subset an konsekutiven Indizes\n",
    "s[2:8]"
   ]
  },
  {
   "cell_type": "markdown",
   "id": "6a13456f-208b-4eff-9f27-809717398e2f",
   "metadata": {},
   "source": [
    "### Listen\n",
    "Um Werte zu gruppieren, können **Listen** verwendet werden. Sie sind eine durch Komma getrennte Aufzählung innnerhalb eckiger Klammern."
   ]
  },
  {
   "cell_type": "code",
   "execution_count": null,
   "id": "6b794dcf-bba2-4152-a0fb-624393333dd5",
   "metadata": {},
   "outputs": [],
   "source": [
    "quadratzahlen = [1, 4, 9, 16, 25]"
   ]
  },
  {
   "cell_type": "markdown",
   "id": "a80268d1-3a21-49b6-97a0-70e1e2e1a5e4",
   "metadata": {},
   "source": [
    "Auch hier können wir Indexen und Slicen:"
   ]
  },
  {
   "cell_type": "code",
   "execution_count": null,
   "id": "729a5202-2739-483a-85e9-c499a5b905d3",
   "metadata": {},
   "outputs": [],
   "source": [
    "quadratzahlen[0]"
   ]
  },
  {
   "cell_type": "code",
   "execution_count": null,
   "id": "5b171aed-bd65-4fd0-879a-50be8bd873bd",
   "metadata": {},
   "outputs": [],
   "source": [
    "quadratzahlen[2:4]"
   ]
  },
  {
   "cell_type": "markdown",
   "id": "2508adb9-8cae-4dd0-97ec-f164b292c2e4",
   "metadata": {},
   "source": [
    "Über Indexing und Slicing können Listen auch neue Werte zugewiesen werden."
   ]
  },
  {
   "cell_type": "code",
   "execution_count": null,
   "id": "a77be946-f688-43fd-8088-db1665379275",
   "metadata": {},
   "outputs": [],
   "source": [
    "quadratzahlen[1] = 100\n",
    "quadratzahlen"
   ]
  },
  {
   "cell_type": "markdown",
   "id": "daba7f90-7908-4283-92f4-55d1c4091ed6",
   "metadata": {},
   "source": [
    "### If - Else - For - While\n",
    "Um komplexere Porgramme schrieben zu können, benötigen wir loops und conditions (Bedingungen). Ein if-statement fragt ab, ob eine bestimmte condition erfüllt ist. Gibt die condition den Wahrheitswert (auch genannt bool) *true*, so wird der if-Codeblock ausgeführt. Ist der Wahrheitswert *false* so wird (sofern vorhanden) der else-Codeblock ausgeführt."
   ]
  },
  {
   "cell_type": "code",
   "execution_count": null,
   "id": "a6bbf46b-1f0b-4c9c-8e3e-77083463f30a",
   "metadata": {},
   "outputs": [],
   "source": [
    "a = 10\n",
    "\n",
    "if  a > 5:\n",
    "    print(\"a ist größer als 5\")\n",
    "else:\n",
    "    print(\"a ist kleiner gleich 5\")"
   ]
  },
  {
   "cell_type": "markdown",
   "id": "86a10cfe-bf0a-43c2-a494-e3fbd4ed9f3c",
   "metadata": {},
   "source": [
    "Mit loops kann ein Code-Abschnitt solange ausgeführt werden, wie eine condition erfüllt ist. "
   ]
  },
  {
   "cell_type": "code",
   "execution_count": null,
   "id": "16bf6ac4-aac0-4117-9e06-731bd8877a9c",
   "metadata": {},
   "outputs": [],
   "source": [
    "# Fibonacci series:\n",
    "# the sum of two elements defines the next\n",
    "\n",
    "a, b = 0, 1\n",
    "while a < 10:\n",
    "    print(a)\n",
    "    a, b = b, a+b"
   ]
  },
  {
   "cell_type": "markdown",
   "id": "93507478-c4ad-457e-a6c7-d9b82b44fa95",
   "metadata": {},
   "source": [
    "for-Statements iterieren über eine Sequenz, z.b. eine Liste oder einen String."
   ]
  },
  {
   "cell_type": "code",
   "execution_count": null,
   "id": "e39e94cf-c3f8-4c19-bd17-7cdca11d30b1",
   "metadata": {},
   "outputs": [],
   "source": [
    "l = [2, 4, 6]\n",
    "for value in l:\n",
    "    print(value*value)"
   ]
  },
  {
   "cell_type": "code",
   "execution_count": null,
   "id": "0552a3ba-f4df-48a8-a925-1daef640ebe3",
   "metadata": {},
   "outputs": [],
   "source": [
    "for c in \"hallo\":\n",
    "    print(c)"
   ]
  },
  {
   "cell_type": "code",
   "execution_count": null,
   "id": "608a5686-c80c-4829-94ca-f1244617d340",
   "metadata": {},
   "outputs": [],
   "source": [
    "for i in range(0, 6):\n",
    "    print(i)"
   ]
  },
  {
   "cell_type": "markdown",
   "id": "e1dd9795-407a-4671-8db3-acb18cd9a359",
   "metadata": {},
   "source": [
    "Loops lassen sich durch **break** vorzeitig abbrechen. Durch **continue** kann eine Iteration übersprungen werden."
   ]
  },
  {
   "cell_type": "markdown",
   "id": "d70a2cfc-b04c-433d-9bc8-02d5b15b9e68",
   "metadata": {},
   "source": [
    "### Funktionen\n",
    "\n",
    "Eines der wichtigsten Elemente, um strukturierten Python-Code zu schreiben sind **Funktionen**. In Python werden Funktionen mit dem keyword *def* initialisiert, gefolgt vom Funktionsnamen und den Input-parametern in runden Klammern. Es folgt ein Doppelpunkt und in der nächsten Zwile beginnt dann der Funktionen-Körper mit dem tatsächlichen Code."
   ]
  },
  {
   "cell_type": "code",
   "execution_count": null,
   "id": "225df282-8487-470a-ab03-34696fa581db",
   "metadata": {},
   "outputs": [],
   "source": [
    "def fibonacci(n):    # write Fibonacci series up to n\n",
    "    a, b = 0, 1\n",
    "    while a < n:\n",
    "        print(a, end=' ')\n",
    "        a, b = b, a+b\n",
    "    print()\n",
    "\n",
    "\n",
    "# Now call the function we just defined:\n",
    "fibonacci(2000)"
   ]
  },
  {
   "cell_type": "markdown",
   "id": "0dbcea05-f235-44e0-9327-2d07d7369c6c",
   "metadata": {},
   "source": [
    "### Module\n",
    "\n",
    "Man kann Funktionn in sogenannten Modulen zusammenfassen. Die Module können dann ganz einfach geladen werdenn. Dazu gibt es den import-Befehl. Wichtig dabei ist, dass sich beide Dateien im selben Verzeichnis befinden. \n",
    "\n",
    "Neben selbst geschriebenen Modulen kann man installierte Python Bibliotheken (sogennante packages) mit dem import Befehl in ein Jupyter Notebook einbeziehen. Alle Funktionen, die in dem package enthalten sind, sind dann für uns verfügbar. Die installierten Python Bibliotheken können viele verschiedene Zusatzfunktionen enthalten, die über die gewöhnliche Python-Funktionalität hinaus geht. \n",
    "\n",
    "Als Beispiel laden wir hier das Modul random, mit dem Zufallszahlen erzeugt werden können."
   ]
  },
  {
   "cell_type": "code",
   "execution_count": null,
   "id": "6ba692ca-99b0-4dd1-9e1d-cfe4e6b1a554",
   "metadata": {},
   "outputs": [],
   "source": [
    "import random"
   ]
  },
  {
   "cell_type": "code",
   "execution_count": null,
   "id": "779dfb40-a0f6-4a03-85f2-7c9d10ef3937",
   "metadata": {},
   "outputs": [],
   "source": [
    "zufallszahl = random.randint(0, 1) \n",
    "print(zufallszahl)"
   ]
  },
  {
   "cell_type": "markdown",
   "id": "6b448b3a-028c-48b1-ad8b-5915770396c7",
   "metadata": {},
   "source": [
    "Wenn wir direkt alle Funktionen aus einem Paket laden wollen, geht dies über die folgende Schreibweise."
   ]
  },
  {
   "cell_type": "code",
   "execution_count": null,
   "id": "b83080f9-58ff-4687-90bb-010ebb281d89",
   "metadata": {},
   "outputs": [],
   "source": [
    "from random import *\n",
    "zufallszahl = randint(0, 10)\n",
    "print(zufallszahl)"
   ]
  },
  {
   "cell_type": "markdown",
   "id": "328770ad-32a7-4eac-9e9a-598b5f29d2b3",
   "metadata": {},
   "source": [
    "Wir könenn aber auch einzelne Funktionen aus einem modul laden."
   ]
  },
  {
   "cell_type": "code",
   "execution_count": null,
   "id": "2f4f1844-8005-41fc-bbd3-d1cf3fd24a65",
   "metadata": {},
   "outputs": [],
   "source": [
    "from random import randint\n",
    "# bestimmte Teile des Moduls werden importiert, in diesem Fall die randint Funktion von dem package \"random\"\n",
    "\n",
    "randint(0, 10)"
   ]
  },
  {
   "cell_type": "markdown",
   "id": "2be70ba5-fa19-4d74-8d78-107a247dd32f",
   "metadata": {},
   "source": [
    "## 3. Arrays: NumPy\n",
    "\n",
    "In der nicht-digitalen Welt verwenden wir oft tabellenartige Strukturen, um Daten zu organisieren. Datasets können jedoch aus einer Bandbreite verschiedener Quellen stammen und daher viele verschiedene Formate haben, etwa als Sammlung von Dokumenten oder Bildern, Audiodateien oder numerische Messungen. Trotzdem stellen wir uns Daten hier immer als mehrdimensionale Vektoren oder Matritzen vor. Diese werden *arrays* genannt. \n",
    "\n",
    "$$\\begin{pmatrix}\n",
    "0.2 &0.5 &1.6 &10.4\\\\\n",
    "0.4 &1.5 &2.3 &6.7\\\\\n",
    "0.5 &0.7 &4.6 &9.7\\\\\n",
    "0.2 &0.9 &1.4 &13.5\\\\\n",
    "0.7 &0.4 &3.3 &16.1\\\\\n",
    "0.6 &0.6 &2.6 &10.6\\\\\n",
    "\\end{pmatrix}\n",
    "$$\n",
    "\n",
    "Bilder können beispielsweise in solch eine 2-dimensionale Matrix übersetzt werden, indem Pixel Helligkeiten durch Zahlen repräsentiert werden. Eine Audio-Datei kann als 1-dimensionaler Vektor mit den Größen Intensität pro Zeit erfasst werden. Unabhängig von der Art der Daten ist es essenziell, dass Daten analysierbar gemacht werden und daher in numerische Werte übersetzt werden.\n",
    "\n",
    "\n",
    "In Python gibt es einige packages, die solche numerischen arrays zur Verfügung stellen. Wir verwenden *NumPy*.\n",
    "NumPy (kurz für *Numerical Python*) stellt ein Medium zur Verfügung, um arrays zu speichern und zu verändern. NumPy arrays sind ähnlich zu Pythons *list* Datentyp, jedoch können NumPy arrays effizienter gespeichert werden und verfügen über effizientere Daten operationen.  \n",
    "\n",
    "\n",
    "Wir laden das Paket über die import Funktion. Bei einem import können wir dem geladenen package einen Alias zuweisen, mit dem wir es später aufrufen können. Traditionell (d.h. per Konvention) wird numpy mit dem Alias np importiert.\n",
    "\n",
    "Siehe auch https://numpy.org/doc/stable/user/absolute_beginners.html."
   ]
  },
  {
   "cell_type": "code",
   "execution_count": null,
   "id": "022d588b-e376-4695-a063-091258db8922",
   "metadata": {},
   "outputs": [],
   "source": [
    "import numpy as np"
   ]
  },
  {
   "cell_type": "markdown",
   "id": "48eedfe1-d148-4db8-adcb-64786a93142b",
   "metadata": {},
   "source": [
    "Eine Möglichkeit, NumPy-Arrays zu initialisieren, sind Python-Listen und die Verwendung verschachtelter Listen für zwei- oder höherdimensionale Daten."
   ]
  },
  {
   "cell_type": "code",
   "execution_count": null,
   "id": "a94dc178-8d61-428f-80a9-ac8541833458",
   "metadata": {},
   "outputs": [],
   "source": [
    "# eindimensional\n",
    "a = np.array([1, 2, 3, 4, 5, 6])\n",
    "print(a)"
   ]
  },
  {
   "cell_type": "code",
   "execution_count": null,
   "id": "ea1c09dc-26dc-41f2-a42d-909341985e58",
   "metadata": {},
   "outputs": [],
   "source": [
    "# oder mehrdimensional\n",
    "b = np.array([[1, 2, 3, 4], [5, 6, 7, 8], [9, 10, 11, 12]])\n",
    "print(b)"
   ]
  },
  {
   "cell_type": "markdown",
   "id": "84666b81-0aa2-42f8-a332-cb531e3a1675",
   "metadata": {},
   "source": [
    "Ähnlich wie bei Python-Listen können wir auf Elemente des arrays mit eckigen Klammern zugreifen. Das erste Element wird mit der Zahl 0 ausgegeben."
   ]
  },
  {
   "cell_type": "code",
   "execution_count": null,
   "id": "aaed7027-1d80-4e21-bfb2-fec3d756918e",
   "metadata": {},
   "outputs": [],
   "source": [
    "print(a[0])\n",
    "print(b[0])"
   ]
  },
  {
   "cell_type": "markdown",
   "id": "b39f9359-88c2-4b33-bced-659366b8afaf",
   "metadata": {},
   "source": [
    "Grundlegende Rechenoperationen sind mit NumPy arrays möglich. Hierzu wird die jeweilige Operation elementweise ausgeführt."
   ]
  },
  {
   "cell_type": "code",
   "execution_count": null,
   "id": "5ce82ab3-9504-4bbb-859d-66a732446164",
   "metadata": {},
   "outputs": [],
   "source": [
    "data = np.array([1, 2])\n",
    "more_data = np.array([3,1])\n",
    "\n",
    "data + more_data"
   ]
  },
  {
   "cell_type": "code",
   "execution_count": null,
   "id": "3f896b78-9b55-4894-b214-1bd51a3c05b7",
   "metadata": {},
   "outputs": [],
   "source": [
    "print(data - more_data)\n",
    "print(data * more_data)\n",
    "print(data / more_data)"
   ]
  },
  {
   "cell_type": "markdown",
   "id": "b19d4c4a-1a92-4ca6-91d7-f8220f8d5d94",
   "metadata": {},
   "source": [
    "Wollen wir die Summe aller Elemente in einem array finden, so könnten wir über die Elemente des arrays iterieren:\n"
   ]
  },
  {
   "cell_type": "code",
   "execution_count": null,
   "id": "2fbb536a-a24d-45a5-bb91-daccfe4e0145",
   "metadata": {},
   "outputs": [],
   "source": [
    "data = np.array([2,5,7])\n",
    "\n",
    "summe = 0\n",
    "for element in data:\n",
    "    summe = summe + element\n",
    "print(summe)"
   ]
  },
  {
   "cell_type": "markdown",
   "id": "8abfe00f-ec79-4235-8950-d5d712d01040",
   "metadata": {},
   "source": [
    "Schneller geht dies jedoch auch mit der .sum() Funktion, die wir einfach an unser array anhängen, um sie auszuführen:"
   ]
  },
  {
   "cell_type": "code",
   "execution_count": null,
   "id": "3dba3fde-e93b-4f8b-a4f6-bbe538f33ac1",
   "metadata": {},
   "outputs": [],
   "source": [
    "data = np.array([2,5,7])\n",
    "summe = data.sum() # Klammern nicht vergessen!\n",
    "print(summe)"
   ]
  },
  {
   "cell_type": "markdown",
   "id": "c0c5c3e3-8193-44f5-bbb0-52a97ee1b6b2",
   "metadata": {},
   "source": [
    "## 4. Plotting: Matplotlib\n",
    "\n",
    "Generell lassen sich Daten in Python mit dem Paket *matplotlib* bzw. genauer mit dem Subpaket *matplotlib.pyplot* visualisieren. \n",
    "\n",
    "Das Paket verfügt über verschiedene plot-Funktionen, mit den Graphen gezeichnet werden können. Eine Standard-Funktion ist plot(), welche einen Lineplot erzeugt."
   ]
  },
  {
   "cell_type": "code",
   "execution_count": null,
   "id": "82e86dbd-8719-4be2-a7cb-90b097868415",
   "metadata": {},
   "outputs": [],
   "source": [
    "import matplotlib.pyplot as plt \n",
    "\n",
    "# Daten\n",
    "x = [10, 20, 30, 40]\n",
    "y = [20, 25, 35, 55]\n",
    " \n",
    "# plotting\n",
    "plt.plot(x, y)\n",
    " \n",
    "plt.show()"
   ]
  },
  {
   "cell_type": "markdown",
   "id": "7f65d250-424d-4759-84d1-a0fa5026e7b2",
   "metadata": {},
   "source": [
    "Wir können viele verschiedene Dinge hinzufügen, wie etwa einen Titel und eine Legende."
   ]
  },
  {
   "cell_type": "code",
   "execution_count": null,
   "id": "f83d3ccd-1593-42c5-bc18-548915ed669a",
   "metadata": {
    "scrolled": true
   },
   "outputs": [],
   "source": [
    "plt.plot(x, y)\n",
    "plt.title(\"Line Chart\")\n",
    "plt.xlabel(\"X Data\")\n",
    "plt.ylabel(\"Y data\")\n",
    "\n",
    "plt.legend([\"Line\"])\n",
    "plt.show()"
   ]
  },
  {
   "cell_type": "markdown",
   "id": "9dbf21a1-e0ee-477c-834b-eb87542aba99",
   "metadata": {},
   "source": [
    "Eine Legende ist zum Beispiel nützlich, wenn mehrere Linien geplottet werden sollen."
   ]
  },
  {
   "cell_type": "code",
   "execution_count": null,
   "id": "fd0f1fc9-e885-4411-9462-82f0f03c2b75",
   "metadata": {},
   "outputs": [],
   "source": [
    "x = [10, 20, 30, 40]\n",
    "y = [20, 25, 35, 55]\n",
    "z = [40, 25, 20, 10]\n",
    "\n",
    "plt.plot(x, y, label=\"y\")\n",
    "plt.plot(x, z, label=\"z\")\n",
    "plt.title(\"Line Chart\")\n",
    "\n",
    "plt.legend()\n",
    "plt.show()"
   ]
  },
  {
   "cell_type": "markdown",
   "id": "871ab765-8fe5-4a87-89e9-5ef11a8b2b8a",
   "metadata": {},
   "source": [
    "Barplots können mit der Funktion bar() erstellt werden."
   ]
  },
  {
   "cell_type": "code",
   "execution_count": null,
   "id": "c7f625fd-28d6-4e1d-8ca8-b28ca6bee76c",
   "metadata": {},
   "outputs": [],
   "source": [
    "x = [3, 1, 3, 12, 2, 4, 4] \n",
    "y = [3, 2, 1, 4, 5, 6, 7] \n",
    "\n",
    "plt.bar(x, y)\n",
    "\n",
    "plt.title(\"Bar Chart\")\n",
    "\n",
    "plt.legend([\"bar\"])\n",
    "plt.show()"
   ]
  },
  {
   "cell_type": "markdown",
   "id": "d8b11b00-e1c6-48f8-9557-94bc7d50eb04",
   "metadata": {},
   "source": [
    "Sogenannte Scatterplots sind gut geeignet, um die Beziehung zwischen zwei Variablen darzustellen."
   ]
  },
  {
   "cell_type": "code",
   "execution_count": null,
   "id": "e07ea558-b0ac-4b34-85b9-d1d4c8aa7d21",
   "metadata": {},
   "outputs": [],
   "source": [
    "x = [3, 1, 3, 12, 2, 4, 4]\n",
    "y = [3, 2, 1, 4, 5, 6, 7]\n",
    "\n",
    "plt.scatter(x, y)\n",
    "plt.legend(\"A\")\n",
    "\n",
    "plt.title(\"Scatter chart\")\n",
    "plt.show()"
   ]
  },
  {
   "cell_type": "markdown",
   "id": "900bea1c-7728-4188-89aa-94027410c107",
   "metadata": {},
   "source": [
    "Es gibt noch viele weitere Möglichkeiten, siehe etwa https://www.geeksforgeeks.org/matplotlib-tutorial/?ref=lbp."
   ]
  },
  {
   "cell_type": "markdown",
   "id": "1b8957ab-9265-4db6-bbe6-33d3711bee1d",
   "metadata": {},
   "source": [
    "-------------------------------------------------------------------\n",
    "## 5. Aufgaben\n",
    "\n",
    "### Aufgabe 1\n",
    "Was machen die Python Operationen %, //, ** ?"
   ]
  },
  {
   "cell_type": "code",
   "execution_count": null,
   "id": "4b46528b-f517-4520-a41f-7225afab3eb6",
   "metadata": {},
   "outputs": [],
   "source": [
    "# Code hier\n"
   ]
  },
  {
   "cell_type": "markdown",
   "id": "77d02bc3-4898-43eb-a08c-19ad9d9eb369",
   "metadata": {},
   "source": [
    "Antwort hier:\n"
   ]
  },
  {
   "cell_type": "markdown",
   "id": "bd101700-7221-4ad2-9b13-b7575c184fa7",
   "metadata": {},
   "source": []
  },
  {
   "cell_type": "markdown",
   "id": "6fafde50-ba39-4073-a29d-1846b061ba70",
   "metadata": {},
   "source": [
    "### Aufgabe 2\n",
    "\n",
    "Gegeben seien die folgenden zwei Listen und der Wert value."
   ]
  },
  {
   "cell_type": "code",
   "execution_count": null,
   "id": "09b0a929-8355-484b-a9c0-edb86e565892",
   "metadata": {},
   "outputs": [],
   "source": [
    "list1 = [1, 2, 3, 4]\n",
    "list2 = [5, 6, 7, 8]\n",
    "value = 9"
   ]
  },
  {
   "cell_type": "markdown",
   "id": "e1b99fd8-fd17-412d-bdee-58d0e466d152",
   "metadata": {},
   "source": [
    "Nutze den Concatenation-Operator +, um list1 und list2 zu einer Liste zusammenzufügen. Nutze dann die append() Funktion um value hinzuzufügen. "
   ]
  },
  {
   "cell_type": "code",
   "execution_count": null,
   "id": "59be576f-a50f-4f33-9f76-d3449750438c",
   "metadata": {},
   "outputs": [],
   "source": [
    "# Code hier\n"
   ]
  },
  {
   "cell_type": "markdown",
   "id": "6da8b1a5-8afa-4d74-872e-0b3849f492f7",
   "metadata": {},
   "source": [
    "### Aufgabe 3 \n",
    "Schreibe eine Funktion, die einen Wert n entgegen nimmt und alle ungeraden Zahlen bis n printet."
   ]
  },
  {
   "cell_type": "code",
   "execution_count": null,
   "id": "d2b1100e-7d26-4fa5-a3ee-7ec7ebcf4564",
   "metadata": {},
   "outputs": [],
   "source": [
    "# Code hier \n"
   ]
  },
  {
   "cell_type": "markdown",
   "id": "612fe083-e7e1-498c-8b1d-57ef8cb66d0b",
   "metadata": {},
   "source": [
    "### Aufgabe 4"
   ]
  },
  {
   "cell_type": "markdown",
   "id": "045d8bed-27f7-408b-a0a6-e0e3b3e8018c",
   "metadata": {},
   "source": [
    "Pi ist eine irrationale Zahl mit einmaligen Dezimalwerten. Wir kennen gewöhnlich Pi = 3,14, aber dies ist nur eine Annäherung. Hier werden wir die **Leibniz-Formel** um Pi zu berechnen. Die Formel lautet:\n",
    "$$\\pi = 4 - 4/3 + 4/5 - 4/7 + 4/9 - 4/11 + 4/13 -\\ ...\\ \\text{usw.} $$\n",
    "\n",
    " \n",
    "*Schreibe eine Funktion, die Pi mithilfe der Leibniz-Formel (10 000 Summanden) berechnet*"
   ]
  },
  {
   "cell_type": "code",
   "execution_count": null,
   "id": "83ac380c-c418-4ffa-a88e-a6fc993a8b00",
   "metadata": {},
   "outputs": [],
   "source": [
    "# Code hier\n",
    "\n"
   ]
  },
  {
   "cell_type": "markdown",
   "id": "30dd9056-762d-4280-b524-d2e8ea45779b",
   "metadata": {},
   "source": [
    "### Aufgabe 5\n",
    "Erstelle eine Funktion die das Polynom\n",
    "$$ p(x) = x^2 + 3x -4 $$ definiert.\n",
    "Plotte das Polynom von -5 bis 5 in einem lineplot. Variiere die Anzahl der Datenpunkte von 10 bis zu 100 Datenpunkten."
   ]
  },
  {
   "cell_type": "code",
   "execution_count": null,
   "id": "77b1704e-cfdf-4948-94a5-0fa93201876e",
   "metadata": {},
   "outputs": [],
   "source": [
    "# Code hier\n"
   ]
  }
 ],
 "metadata": {
  "kernelspec": {
   "display_name": "Python 3 (ipykernel)",
   "language": "python",
   "name": "python3"
  },
  "language_info": {
   "codemirror_mode": {
    "name": "ipython",
    "version": 3
   },
   "file_extension": ".py",
   "mimetype": "text/x-python",
   "name": "python",
   "nbconvert_exporter": "python",
   "pygments_lexer": "ipython3",
   "version": "3.10.12"
  }
 },
 "nbformat": 4,
 "nbformat_minor": 5
}
